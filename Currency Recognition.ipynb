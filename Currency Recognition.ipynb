{
 "cells": [
  {
   "cell_type": "markdown",
   "metadata": {},
   "source": [
    "## Libraries to add\n",
    "\n",
    "1. collections -> OrderedDict\n",
    "2. os\n",
    "3. wheel.pep425tags -> get_abbr_impl, get_impl_ver, get_abi_tag\n",
    "4. PIL -> Image\n",
    "5. json\n",
    "6. time\n",
    "7. copy\n",
    "8. matplotlib.pyplot as plt\n",
    "9. seaborn as sns\n",
    "10. numpy as np\n",
    "11. torch\n",
    "12. torch -> nn, optim\n",
    "13. torch.optim -> lr_scheduler\n",
    "14. torch.autograd -> Variable\n",
    "15. torchvision\n",
    "16. torchvision -> datasets, models, transforms\n",
    "17. torch.utils.data.sampler -> SubsetRandomSampler\n",
    "18. torch.nn\n",
    "19. torch.nn.functional"
   ]
  },
  {
   "cell_type": "code",
   "execution_count": 2,
   "metadata": {},
   "outputs": [],
   "source": [
    "#please import the libraries here"
   ]
  },
  {
   "cell_type": "markdown",
   "metadata": {},
   "source": [
    "## Structure of the dataset\n",
    "\n",
    "eg:-\n",
    "<pre>\n",
    "data/\n",
    "    train/\n",
    "        dogs/ ### 1024 pictures\n",
    "            dog001.jpg\n",
    "            dog002.jpg\n",
    "            ...\n",
    "        cats/ ### 1024 pictures\n",
    "            cat001.jpg\n",
    "            cat002.jpg\n",
    "            ...\n",
    "    validation/\n",
    "        dogs/ ### 416 pictures\n",
    "            dog001.jpg\n",
    "            dog002.jpg\n",
    "            ...\n",
    "        cats/ ### 416 pictures\n",
    "            cat001.jpg\n",
    "            cat002.jpg\n",
    "            ...\n",
    "</pre>            \n",
    "#### Note: Replace with a proper iteration structure for currencies of atleast 3 countries, with 10 images per denomination of paper money"
   ]
  },
  {
   "cell_type": "markdown",
   "metadata": {},
   "source": [
    "Use keras and tensorflow for creating a custom image classifier\n",
    "\n",
    "Steps to follow: <br>\n",
    "**1. set data directories | train | validation | main folder|**"
   ]
  },
  {
   "cell_type": "code",
   "execution_count": 3,
   "metadata": {},
   "outputs": [],
   "source": [
    "#code here"
   ]
  },
  {
   "cell_type": "markdown",
   "metadata": {},
   "source": [
    "**2. set transform functions for train and valid testing sets**\n",
    "\n",
    "eg.\n",
    "<pre>\n",
    "data_transforms = {\n",
    "    'train': transforms.Compose([\n",
    "        transforms.RandomRotation(30),\n",
    "        transforms.RandomResizedCrop(224),\n",
    "        transforms.RandomHorizontalFlip(),\n",
    "        transforms.ToTensor(),\n",
    "        transforms.Normalize([0.485, 0.456, 0.406], \n",
    "                             [0.229, 0.224, 0.225])\n",
    "    ]),\n",
    "    'valid': transforms.Compose([\n",
    "        transforms.Resize(256),\n",
    "        transforms.CenterCrop(224),\n",
    "        transforms.ToTensor(),\n",
    "        transforms.Normalize([0.485, 0.456, 0.406], \n",
    "                             [0.229, 0.224, 0.225])\n",
    "    ])\n",
    "}\n",
    "</pre>"
   ]
  },
  {
   "cell_type": "code",
   "execution_count": 4,
   "metadata": {},
   "outputs": [],
   "source": [
    "#code here"
   ]
  },
  {
   "cell_type": "markdown",
   "metadata": {},
   "source": [
    "**3. load datasets with ImageFolder**<br>\n",
    "**4. define dataloaders**\n",
    " \n",
    "eg:-\n",
    "\n",
    "<pre>\n",
    "dataloaders = {x: torch.utils.data.DataLoader(image_datasets[x], batch_size=batch_size,\n",
    "                                             shuffle=True, num_workers=4)\n",
    "              for x in ['train', 'valid']}\n",
    "</pre>\n",
    "\n",
    "**5. set class names using classes function of image dataset**"
   ]
  },
  {
   "cell_type": "code",
   "execution_count": 5,
   "metadata": {},
   "outputs": [],
   "source": [
    "#code here"
   ]
  },
  {
   "cell_type": "markdown",
   "metadata": {},
   "source": [
    "**6. Map labels to the training images**\n",
    "eg:-\n",
    "<pre>\n",
    "with open('something.json','r') as f:\n",
    "    something = json.load(f)\n",
    "</pre>"
   ]
  },
  {
   "cell_type": "code",
   "execution_count": 6,
   "metadata": {},
   "outputs": [],
   "source": [
    "#code here"
   ]
  },
  {
   "cell_type": "markdown",
   "metadata": {},
   "source": [
    "**7. Create the classifier**\n",
    "<ul>\n",
    "    <li>import param in model.parameters()</li>\n",
    "    <li>Make a function which includes: \n",
    "        <ul>\n",
    "            <li>No. of IN Features</li>\n",
    "            <li>No. of Hidden Layers</li>\n",
    "            <li>No. of OUT Features</li>\n",
    "        </ul>\n",
    "    </li>\n",
    "    <li>Use nn.Sequential to form a classifier</li>\n",
    "    <li>eg:- <pre>\n",
    "    def build_classifier(num_in_features, hidden_layers, num_out_features):\n",
    "            classifier = nn.Sequential()\n",
    "            if hidden_layers == None:\n",
    "            classifier.add_module('fc0', nn.Linear(num_in_features, 102))\n",
    "        else:\n",
    "            layer_sizes = zip(hidden_layers[:-1], hidden_layers[1:])\n",
    "            classifier.add_module('fc0',nn.Linear(num_in_features,hidden_layers[0]))\n",
    "            classifier.add_module('relu0', nn.ReLU())\n",
    "            classifier.add_module('drop0', nn.Dropout(.6))\n",
    "            classifier.add_module('relu1', nn.ReLU())\n",
    "            classifier.add_module('drop1', nn.Dropout(.5))\n",
    "            for i, (h1, h2) in enumerate(layer_sizes):\n",
    "                classifier.add_module('fc'+str(i+1), nn.Linear(h1, h2))\n",
    "                classifier.add_module('relu'+str(i+1), nn.ReLU())\n",
    "                classifier.add_module('drop'+str(i+1), nn.Dropout(.5))\n",
    "            classifier.add_module('output', nn.Linear(hidden_layers[-1], num_out_features))\n",
    "        return classifier\n",
    "    </li>\n",
    "</ul>\n",
    "\n",
    "**8. Learn to use densenet model**"
   ]
  },
  {
   "cell_type": "code",
   "execution_count": 7,
   "metadata": {},
   "outputs": [],
   "source": [
    "#code here"
   ]
  },
  {
   "cell_type": "markdown",
   "metadata": {},
   "source": [
    "For reference on how to train the model, go to https://pytorch.org/tutorials/beginner/transfer_learning_tutorial.html\n",
    "Note: keeping a higher number of epochs will help with accurately trained data"
   ]
  },
  {
   "cell_type": "markdown",
   "metadata": {},
   "source": [
    "**Logic for the Classifier:**\n",
    " \n",
    "\n",
    "Use a cutout of the images in the notes which distunguishes them from each other.\n",
    "eg:\n",
    "\n",
    "![ Cutout ](img/currency.jpeg \"Cutout of Rs. 2000 note\")\n",
    "\n",
    "\n",
    "Train them with proper data folder structure and labels.\n",
    "Use different angles of the cutout, to identify the images."
   ]
  }
 ],
 "metadata": {
  "kernelspec": {
   "display_name": "Python 3",
   "language": "python",
   "name": "python3"
  },
  "language_info": {
   "codemirror_mode": {
    "name": "ipython",
    "version": 3
   },
   "file_extension": ".py",
   "mimetype": "text/x-python",
   "name": "python",
   "nbconvert_exporter": "python",
   "pygments_lexer": "ipython3",
   "version": "3.7.1"
  }
 },
 "nbformat": 4,
 "nbformat_minor": 2
}
